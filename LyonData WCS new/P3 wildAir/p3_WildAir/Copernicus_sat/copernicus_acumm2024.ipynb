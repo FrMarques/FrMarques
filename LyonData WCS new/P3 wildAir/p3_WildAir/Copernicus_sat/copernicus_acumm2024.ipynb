{
 "cells": [
  {
   "cell_type": "markdown",
   "metadata": {},
   "source": [
    "## Base de Données accum 2024 meteo du Copernicus: Lyon, France"
   ]
  },
  {
   "cell_type": "code",
   "execution_count": 1,
   "metadata": {},
   "outputs": [
    {
     "name": "stdout",
     "output_type": "stream",
     "text": [
      "Fichier trouvé!\n"
     ]
    }
   ],
   "source": [
    "import os\n",
    "\n",
    "file_path = r\"C:\\Users\\sophi\\P3 base de donnes\\copernicus_lyon2024\\data_stream-oper_stepType-accum.nc\"\n",
    "\n",
    "if os.path.exists(file_path):\n",
    "    print(\"Fichier trouvé!\")\n",
    "else:\n",
    "    print(\"Fichier pas trouvé. Verifie le chemin.\")\n"
   ]
  },
  {
   "cell_type": "code",
   "execution_count": 2,
   "metadata": {},
   "outputs": [],
   "source": [
    "import xarray as xr\n",
    "\n",
    "# Substitui 'teu_ficheiro.nc' pelo caminho para o ficheiro NetCDF que descarregaste\n",
    "file_path = (r\"C:\\Users\\sophi\\P3 base de donnes\\copernicus_lyon2024\\data_stream-oper_stepType-accum.nc\")\n",
    "\n",
    "# Carregar o ficheiro NetCDF\n",
    "data_accum = xr.open_dataset(file_path)\n",
    "\n",
    "# Mostrar as variáveis e informações do ficheiro\n",
    "# print(data_accum.head())\n",
    "\n",
    "# # Ver o conteúdo de uma variável específica\n",
    "# print(data[\"2m_temperature\"])  # Substituir pelo nome da variável no ficheiro\n",
    "\n",
    "# # Salvar os dados de uma variável em formato CSV (se necessário)\n",
    "# data[\"2m_temperature\"].to_dataframe().to_csv(\"2m_temperature.csv\")\n",
    "\n",
    "# Para explorar o dataset interativamente, converte para Pandas\n",
    "df_accum = data_accum.to_dataframe()\n"
   ]
  },
  {
   "cell_type": "code",
   "execution_count": 3,
   "metadata": {},
   "outputs": [
    {
     "data": {
      "text/plain": [
       "(27450, 4)"
      ]
     },
     "execution_count": 3,
     "metadata": {},
     "output_type": "execute_result"
    }
   ],
   "source": [
    "df_accum.shape"
   ]
  },
  {
   "cell_type": "code",
   "execution_count": 3,
   "metadata": {},
   "outputs": [
    {
     "data": {
      "text/html": [
       "<div>\n",
       "<style scoped>\n",
       "    .dataframe tbody tr th:only-of-type {\n",
       "        vertical-align: middle;\n",
       "    }\n",
       "\n",
       "    .dataframe tbody tr th {\n",
       "        vertical-align: top;\n",
       "    }\n",
       "\n",
       "    .dataframe thead th {\n",
       "        text-align: right;\n",
       "    }\n",
       "</style>\n",
       "<table border=\"1\" class=\"dataframe\">\n",
       "  <thead>\n",
       "    <tr style=\"text-align: right;\">\n",
       "      <th></th>\n",
       "      <th></th>\n",
       "      <th></th>\n",
       "      <th>number</th>\n",
       "      <th>expver</th>\n",
       "      <th>tp</th>\n",
       "      <th>sf</th>\n",
       "    </tr>\n",
       "    <tr>\n",
       "      <th>valid_time</th>\n",
       "      <th>latitude</th>\n",
       "      <th>longitude</th>\n",
       "      <th></th>\n",
       "      <th></th>\n",
       "      <th></th>\n",
       "      <th></th>\n",
       "    </tr>\n",
       "  </thead>\n",
       "  <tbody>\n",
       "    <tr>\n",
       "      <th>2024-05-03 06:00:00</th>\n",
       "      <th>46.75</th>\n",
       "      <th>5.00</th>\n",
       "      <td>0</td>\n",
       "      <td>0001</td>\n",
       "      <td>0.000000</td>\n",
       "      <td>0.000000</td>\n",
       "    </tr>\n",
       "    <tr>\n",
       "      <th>2024-07-11 06:00:00</th>\n",
       "      <th>46.75</th>\n",
       "      <th>5.50</th>\n",
       "      <td>0</td>\n",
       "      <td>0001</td>\n",
       "      <td>0.000000</td>\n",
       "      <td>0.000000</td>\n",
       "    </tr>\n",
       "    <tr>\n",
       "      <th>2024-08-22 14:00:00</th>\n",
       "      <th>46.75</th>\n",
       "      <th>5.75</th>\n",
       "      <td>0</td>\n",
       "      <td>0001</td>\n",
       "      <td>0.000000</td>\n",
       "      <td>0.000000</td>\n",
       "    </tr>\n",
       "    <tr>\n",
       "      <th>2024-07-21 06:00:00</th>\n",
       "      <th>46.00</th>\n",
       "      <th>5.25</th>\n",
       "      <td>0</td>\n",
       "      <td>0001</td>\n",
       "      <td>0.000024</td>\n",
       "      <td>0.000000</td>\n",
       "    </tr>\n",
       "    <tr>\n",
       "      <th>2024-01-15 22:00:00</th>\n",
       "      <th>46.00</th>\n",
       "      <th>5.50</th>\n",
       "      <td>0</td>\n",
       "      <td>0001</td>\n",
       "      <td>0.000000</td>\n",
       "      <td>0.000000</td>\n",
       "    </tr>\n",
       "    <tr>\n",
       "      <th>2024-02-03 22:00:00</th>\n",
       "      <th>46.50</th>\n",
       "      <th>5.00</th>\n",
       "      <td>0</td>\n",
       "      <td>0001</td>\n",
       "      <td>0.000006</td>\n",
       "      <td>0.000000</td>\n",
       "    </tr>\n",
       "    <tr>\n",
       "      <th>2024-04-13 22:00:00</th>\n",
       "      <th>46.00</th>\n",
       "      <th>5.50</th>\n",
       "      <td>0</td>\n",
       "      <td>0001</td>\n",
       "      <td>0.000000</td>\n",
       "      <td>0.000000</td>\n",
       "    </tr>\n",
       "    <tr>\n",
       "      <th>2024-05-16 06:00:00</th>\n",
       "      <th>46.75</th>\n",
       "      <th>5.50</th>\n",
       "      <td>0</td>\n",
       "      <td>0001</td>\n",
       "      <td>0.000430</td>\n",
       "      <td>0.000000</td>\n",
       "    </tr>\n",
       "    <tr>\n",
       "      <th>2024-12-29 22:00:00</th>\n",
       "      <th>46.75</th>\n",
       "      <th>5.50</th>\n",
       "      <td>0</td>\n",
       "      <td>0005</td>\n",
       "      <td>0.000007</td>\n",
       "      <td>0.000005</td>\n",
       "    </tr>\n",
       "    <tr>\n",
       "      <th>2024-03-24 06:00:00</th>\n",
       "      <th>46.25</th>\n",
       "      <th>5.50</th>\n",
       "      <td>0</td>\n",
       "      <td>0001</td>\n",
       "      <td>0.000577</td>\n",
       "      <td>0.000420</td>\n",
       "    </tr>\n",
       "  </tbody>\n",
       "</table>\n",
       "</div>"
      ],
      "text/plain": [
       "                                        number expver        tp        sf\n",
       "valid_time          latitude longitude                                   \n",
       "2024-05-03 06:00:00 46.75    5.00            0   0001  0.000000  0.000000\n",
       "2024-07-11 06:00:00 46.75    5.50            0   0001  0.000000  0.000000\n",
       "2024-08-22 14:00:00 46.75    5.75            0   0001  0.000000  0.000000\n",
       "2024-07-21 06:00:00 46.00    5.25            0   0001  0.000024  0.000000\n",
       "2024-01-15 22:00:00 46.00    5.50            0   0001  0.000000  0.000000\n",
       "2024-02-03 22:00:00 46.50    5.00            0   0001  0.000006  0.000000\n",
       "2024-04-13 22:00:00 46.00    5.50            0   0001  0.000000  0.000000\n",
       "2024-05-16 06:00:00 46.75    5.50            0   0001  0.000430  0.000000\n",
       "2024-12-29 22:00:00 46.75    5.50            0   0005  0.000007  0.000005\n",
       "2024-03-24 06:00:00 46.25    5.50            0   0001  0.000577  0.000420"
      ]
     },
     "metadata": {},
     "output_type": "display_data"
    }
   ],
   "source": [
    "display(df_accum.sample(10))"
   ]
  },
  {
   "cell_type": "code",
   "execution_count": 4,
   "metadata": {},
   "outputs": [],
   "source": [
    "df_accum.to_csv(\"df_acumm24.csv\")"
   ]
  }
 ],
 "metadata": {
  "kernelspec": {
   "display_name": "Python 3",
   "language": "python",
   "name": "python3"
  },
  "language_info": {
   "codemirror_mode": {
    "name": "ipython",
    "version": 3
   },
   "file_extension": ".py",
   "mimetype": "text/x-python",
   "name": "python",
   "nbconvert_exporter": "python",
   "pygments_lexer": "ipython3",
   "version": "3.12.8"
  }
 },
 "nbformat": 4,
 "nbformat_minor": 2
}
