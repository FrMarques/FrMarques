{
 "cells": [
  {
   "cell_type": "markdown",
   "metadata": {},
   "source": [
    "## Base de Données 2024 meteo du Copernicus: Lyon, France"
   ]
  },
  {
   "cell_type": "markdown",
   "metadata": {},
   "source": [
    "* Source: https://cds.climate.copernicus.eu/datasets/reanalysis-era5-single-levels?tab=download"
   ]
  },
  {
   "cell_type": "code",
   "execution_count": 1,
   "metadata": {},
   "outputs": [
    {
     "name": "stderr",
     "output_type": "stream",
     "text": [
      "2025-01-18 12:45:05,044 INFO [2024-09-28T00:00:00] **Welcome to the New Climate Data Store (CDS)!** This new system is in its early days of full operations and still undergoing enhancements and fine tuning. Some disruptions are to be expected. Your \n",
      "[feedback](https://jira.ecmwf.int/plugins/servlet/desk/portal/1/create/202) is key to improve the user experience on the new CDS for the benefit of everyone. Thank you.\n",
      "2025-01-18 12:45:05,048 INFO [2024-09-26T00:00:00] Watch our [Forum](https://forum.ecmwf.int/) for Announcements, news and other discussed topics.\n",
      "2025-01-18 12:45:05,051 INFO [2024-09-16T00:00:00] Remember that you need to have an ECMWF account to use the new CDS. **Your old CDS credentials will not work in new CDS!**\n",
      "2025-01-18 12:45:05,054 WARNING [2024-06-16T00:00:00] CDS API syntax is changed and some keys or parameter names may have also changed. To avoid requests failing, please use the \"Show API request code\" tool on the dataset Download Form to check you are using the correct syntax for your API request.\n",
      "2025-01-18 12:45:05,733 INFO [2025-01-09T00:00:00] Please be aware that ERA5 data from 1st January 2025 was degraded and is being corrected. Watch the [Forum announcement](https://forum.ecmwf.int/t/era5-data-from-1st-january-2025-was-degraded-and-is-being-corrected/10689) for updates.\n",
      "2025-01-18 12:45:05,734 INFO Request ID is ffcb68c9-11aa-4233-bc1c-3e7aaae13bc0\n",
      "2025-01-18 12:45:05,809 INFO status has been updated to accepted\n",
      "2025-01-18 12:45:14,205 INFO status has been updated to running\n",
      "2025-01-18 12:53:24,691 INFO status has been updated to successful\n",
      "                                                                                        \r"
     ]
    },
    {
     "data": {
      "text/plain": [
       "'3c7ce5531545e4a60dbcbdcdd2c03b06.zip'"
      ]
     },
     "execution_count": 1,
     "metadata": {},
     "output_type": "execute_result"
    }
   ],
   "source": [
    "import cdsapi\n",
    "\n",
    "dataset = \"reanalysis-era5-single-levels\"\n",
    "request = {\n",
    "    \"product_type\": [\"reanalysis\"],\n",
    "    \"variable\": [\n",
    "        \"10m_u_component_of_wind\",\n",
    "        \"10m_v_component_of_wind\",\n",
    "        \"2m_temperature\",\n",
    "        \"surface_pressure\",\n",
    "        \"total_precipitation\",\n",
    "        \"snowfall\"\n",
    "    ],\n",
    "    \"year\": [\"2024\"],\n",
    "    \"month\": [\n",
    "        \"01\", \"02\", \"03\",\n",
    "        \"04\", \"05\", \"06\",\n",
    "        \"07\", \"08\", \"09\",\n",
    "        \"10\", \"11\", \"12\"\n",
    "    ],\n",
    "    \"day\": [\n",
    "        \"01\", \"02\", \"03\",\n",
    "        \"04\", \"05\", \"06\",\n",
    "        \"07\", \"08\", \"09\",\n",
    "        \"10\", \"11\", \"12\",\n",
    "        \"13\", \"14\", \"15\",\n",
    "        \"16\", \"17\", \"18\",\n",
    "        \"19\", \"20\", \"21\",\n",
    "        \"22\", \"23\", \"24\",\n",
    "        \"25\", \"26\", \"27\",\n",
    "        \"28\", \"29\", \"30\",\n",
    "        \"31\"\n",
    "    ],\n",
    "    \"time\": [\"06:00\", \"14:00\", \"22:00\"],\n",
    "    \"data_format\": \"netcdf\",\n",
    "    \"download_format\": \"zip\",\n",
    "    \"area\": [47, 5, 46, 6]\n",
    "}\n",
    "\n",
    "client = cdsapi.Client()\n",
    "client.retrieve(dataset, request).download()\n"
   ]
  },
  {
   "cell_type": "markdown",
   "metadata": {},
   "source": [
    "-----------------------------------------\n",
    "-----------------------------------\n",
    "* Under is the dataset without Surface Pressure:"
   ]
  },
  {
   "cell_type": "code",
   "execution_count": 1,
   "metadata": {},
   "outputs": [
    {
     "name": "stderr",
     "output_type": "stream",
     "text": [
      "2025-01-14 15:32:53,164 INFO [2024-09-28T00:00:00] **Welcome to the New Climate Data Store (CDS)!** This new system is in its early days of full operations and still undergoing enhancements and fine tuning. Some disruptions are to be expected. Your \n",
      "[feedback](https://jira.ecmwf.int/plugins/servlet/desk/portal/1/create/202) is key to improve the user experience on the new CDS for the benefit of everyone. Thank you.\n",
      "2025-01-14 15:32:53,167 INFO [2024-09-26T00:00:00] Watch our [Forum](https://forum.ecmwf.int/) for Announcements, news and other discussed topics.\n",
      "2025-01-14 15:32:53,168 INFO [2024-09-16T00:00:00] Remember that you need to have an ECMWF account to use the new CDS. **Your old CDS credentials will not work in new CDS!**\n",
      "2025-01-14 15:32:53,169 WARNING [2024-06-16T00:00:00] CDS API syntax is changed and some keys or parameter names may have also changed. To avoid requests failing, please use the \"Show API request code\" tool on the dataset Download Form to check you are using the correct syntax for your API request.\n",
      "2025-01-14 15:32:54,054 INFO [2025-01-09T00:00:00] Please be aware that ERA5 data from 1st January 2025 was degraded and is being corrected. Watch the [Forum announcement](https://forum.ecmwf.int/t/era5-data-from-1st-january-2025-was-degraded-and-is-being-corrected/10689) for updates.\n",
      "2025-01-14 15:32:54,056 INFO Request ID is 908bc369-ea0c-4b73-ab0b-d0da198ee200\n",
      "2025-01-14 15:32:54,143 INFO status has been updated to accepted\n",
      "2025-01-14 15:32:59,132 INFO status has been updated to running\n",
      "2025-01-14 15:41:13,615 INFO status has been updated to successful\n",
      "                                                                                        \r"
     ]
    },
    {
     "data": {
      "text/plain": [
       "'252ee1f01d110c432a5181d48f5d29b6.zip'"
      ]
     },
     "execution_count": 1,
     "metadata": {},
     "output_type": "execute_result"
    }
   ],
   "source": [
    "import cdsapi\n",
    "\n",
    "dataset = \"reanalysis-era5-single-levels\"\n",
    "request = {\n",
    "    \"product_type\": [\"reanalysis\"],\n",
    "    \"variable\": [\n",
    "        \"10m_u_component_of_wind\",\n",
    "        \"10m_v_component_of_wind\",\n",
    "        \"2m_temperature\",\n",
    "        \"total_precipitation\",\n",
    "        \"snowfall\"\n",
    "    ],\n",
    "    \"year\": [\"2024\"],\n",
    "    \"month\": [\n",
    "        \"01\", \"02\", \"03\",\n",
    "        \"04\", \"05\", \"06\",\n",
    "        \"07\", \"08\", \"09\",\n",
    "        \"10\", \"11\", \"12\"\n",
    "    ],\n",
    "    \"day\": [\n",
    "        \"01\", \"02\", \"03\",\n",
    "        \"04\", \"05\", \"06\",\n",
    "        \"07\", \"08\", \"09\",\n",
    "        \"10\", \"11\", \"12\",\n",
    "        \"13\", \"14\", \"15\",\n",
    "        \"16\", \"17\", \"18\",\n",
    "        \"19\", \"20\", \"21\",\n",
    "        \"22\", \"23\", \"24\",\n",
    "        \"25\", \"26\", \"27\",\n",
    "        \"28\", \"29\", \"30\",\n",
    "        \"31\"\n",
    "    ],\n",
    "    \"time\": [\"06:00\", \"14:00\", \"22:00\"],\n",
    "    \"data_format\": \"netcdf\",\n",
    "    \"download_format\": \"zip\",\n",
    "    \"area\": [47, 5, 46, 6]\n",
    "}\n",
    "\n",
    "client = cdsapi.Client()\n",
    "client.retrieve(dataset, request).download()\n",
    "\n",
    "\n"
   ]
  }
 ],
 "metadata": {
  "kernelspec": {
   "display_name": "Python 3",
   "language": "python",
   "name": "python3"
  },
  "language_info": {
   "codemirror_mode": {
    "name": "ipython",
    "version": 3
   },
   "file_extension": ".py",
   "mimetype": "text/x-python",
   "name": "python",
   "nbconvert_exporter": "python",
   "pygments_lexer": "ipython3",
   "version": "3.12.8"
  }
 },
 "nbformat": 4,
 "nbformat_minor": 2
}
